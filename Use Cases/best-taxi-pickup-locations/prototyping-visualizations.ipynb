{
 "cells": [
  {
   "cell_type": "markdown",
   "metadata": {},
   "source": [
    "### Load data from parquet file, prepare the data and use Folium to create a map"
   ]
  },
  {
   "cell_type": "code",
   "execution_count": null,
   "metadata": {},
   "outputs": [],
   "source": [
    "import folium\n",
    "import calendar\n",
    "from geopy.geocoders import Nominatim\n",
    "import shapelets as sh\n",
    "from shapelets.functions import h3Cell\n",
    "from shapelets.apps import DataApp\n",
    "from shapelets.apps.widgets import Text, Table\n",
    "\n",
    "# Load data\n",
    "playground = sh.sandbox()\n",
    "oneMonthDS = playground.from_parquet('../../Benchmarks/nyc-taxi/2016/01/*.parquet')\n",
    "\n",
    "# Find h3Cells\n",
    "oneMonthDS = oneMonthDS.add_column(\"pickup\", lambda row: h3Cell(row.pickup_longitude, row.pickup_latitude, 12))\n",
    "\n",
    "# Run SQL query to find top tipping locations\n",
    "hotspots = playground.execute_sql(f\"\"\"\n",
    "    SELECT * FROM (\n",
    "        SELECT\n",
    "            t.pickup_latitude,\n",
    "            t.pickup_longitude, \n",
    "            dayofweek(t.pickup_at), \n",
    "            avg(t.tip_amount), \n",
    "            row_number() OVER(\n",
    "                PARTITION BY dayofweek(t.pickup_at) \n",
    "                ORDER BY avg(t.tip_amount) DESC\n",
    "                ) AS ranking    \n",
    "        FROM {oneMonthDS.alias} as t\n",
    "        GROUP BY dayofweek(t.pickup_at), t.pickup_latitude, t.pickup_longitude\n",
    "    ) \n",
    "    WHERE ranking <=3\n",
    "    ORDER BY 3, 5\n",
    "    LIMIT 1000\n",
    "\"\"\").to_pandas()\n",
    "\n",
    "# Create column with day names\n",
    "hotspots['weekday'] = hotspots['dayofweek_t_pickup_at_'].apply(lambda x: calendar.day_name[x])\n",
    "\n",
    "# Build folium map\n",
    "m = folium.Map(location=[40.730610, -73.935242], zoom_start=10, tiles=\"Stamen Terrain\")\n",
    "colors = ['lightgreen', 'lightblue', 'pink', 'lightred', 'purple', 'lightgray', 'green']\n",
    "for h in hotspots.iterrows(): \n",
    "    folium.Marker(\n",
    "        location=[h[1].pickup_latitude, h[1].pickup_longitude],\n",
    "        popup=\"Top #\"+ str(int(h[1].ranking)) +\"\\ntip: $\"+\"{:.2f}\".format(h[1]['avg_t_tip_amount_']) +\n",
    "           \"\\nWeekday:\"+calendar.day_name[int(h[1]['dayofweek_t_pickup_at_'])],\n",
    "        icon=folium.Icon(icon='location-pin', color = colors[int(h[1]['dayofweek_t_pickup_at_'])])\n",
    "    ).add_to(m)"
   ]
  },
  {
   "cell_type": "markdown",
   "metadata": {},
   "source": [
    "### Simple data app (map only)"
   ]
  },
  {
   "cell_type": "code",
   "execution_count": null,
   "metadata": {},
   "outputs": [],
   "source": [
    "# Create data app\n",
    "app = DataApp(\"Top taxi tip locations\", version=(1,0))\n",
    "\n",
    "# Add map\n",
    "map = app.folium_chart(folium=m)\n",
    "app.place(map)\n",
    "\n",
    "# Make data app available to group\n",
    "app.register()"
   ]
  },
  {
   "cell_type": "markdown",
   "metadata": {},
   "source": [
    "### Data app + full table"
   ]
  },
  {
   "cell_type": "code",
   "execution_count": null,
   "metadata": {},
   "outputs": [],
   "source": [
    "# Create data app\n",
    "app = DataApp(\"Top taxi tip locations\", version=(2,0))\n",
    "\n",
    "# Add map\n",
    "map = app.folium_chart(folium=m)\n",
    "app.place(map)\n",
    "\n",
    "# Get addresses for top locations\n",
    "hotspots['latlong'] = hotspots.pickup_latitude.astype(str) + ',' + hotspots.pickup_longitude.astype(str)\n",
    "geolocator = Nominatim(user_agent=\"test\")\n",
    "hotspots['address'] = hotspots.latlong.apply(geolocator.reverse)\n",
    "\n",
    "# Add table\n",
    "table = app.table(data=hotspots[['weekday',\n",
    "    'avg_t_tip_amount_',\n",
    "    'ranking','address']].astype(str),\n",
    "    rows_per_page=25)\n",
    "app.place(table)\n",
    "\n",
    "# Make data app available to group\n",
    "app.register()"
   ]
  },
  {
   "cell_type": "markdown",
   "metadata": {},
   "source": [
    "### Data app + selectors"
   ]
  },
  {
   "cell_type": "code",
   "execution_count": null,
   "metadata": {},
   "outputs": [],
   "source": [
    "# Create data app\n",
    "app = DataApp(\"Top taxi tip locations\", version=(3,0))\n",
    "\n",
    "# Add map\n",
    "map = app.folium_chart(folium=m)\n",
    "app.place(map)\n",
    "\n",
    "# Get addresses for top locations\n",
    "hotspots['latlong'] = hotspots.pickup_latitude.astype(str) + ',' + hotspots.pickup_longitude.astype(str)\n",
    "geolocator = Nominatim(user_agent=\"test\")\n",
    "hotspots['address'] = hotspots.latlong.apply(geolocator.reverse)\n",
    "\n",
    "# Define function\n",
    "def getData(weekday, ranking)->Table:\n",
    "    result = hotspots[(hotspots.weekday==weekday[1]) & (hotspots.ranking==ranking)] \n",
    "    return Table(data=result[['ranking','weekday','avg_t_tip_amount_','address']].astype(str))\n",
    "\n",
    "# Add selectors\n",
    "weekday_selector = app.selector(options = list(calendar.day_name))\n",
    "app.place(weekday_selector)\n",
    "\n",
    "ranking_selector = app.number_input(title=\"Select ranking\",value=1,max=3)\n",
    "app.place(ranking_selector)\n",
    "\n",
    "# Add result string\n",
    "result = app.table()\n",
    "result.bind(getData,weekday_selector,ranking_selector,on_init=True)\n",
    "app.place(result)\n",
    "\n",
    "# Make data app available to group\n",
    "app.register()"
   ]
  },
  {
   "cell_type": "markdown",
   "metadata": {},
   "source": [
    "### Sharing the data app with user groups"
   ]
  },
  {
   "cell_type": "code",
   "execution_count": null,
   "metadata": {},
   "outputs": [],
   "source": [
    "import shapelets as sh\n",
    "sh.create_group(\"thegroup\", \"Example group\")\n",
    "sh.add_user_to_group(\"user1\", groups=[\"thegroup\"], write=False)\n",
    "sh.add_user_to_group(\"user2\", groups=[\"thegroup\"], write=True)"
   ]
  },
  {
   "cell_type": "markdown",
   "metadata": {},
   "source": [
    "### Deleting & listing groups"
   ]
  },
  {
   "cell_type": "code",
   "execution_count": null,
   "metadata": {},
   "outputs": [],
   "source": [
    "sh.delete_group(\"thegroup\")\n",
    "sh.list_current_groups()"
   ]
  }
 ],
 "metadata": {
  "kernelspec": {
   "display_name": "venv",
   "language": "python",
   "name": "python3"
  },
  "language_info": {
   "codemirror_mode": {
    "name": "ipython",
    "version": 3
   },
   "file_extension": ".py",
   "mimetype": "text/x-python",
   "name": "python",
   "nbconvert_exporter": "python",
   "pygments_lexer": "ipython3",
   "version": "3.10.11"
  },
  "orig_nbformat": 4,
  "vscode": {
   "interpreter": {
    "hash": "dd91c1e9d90d869cb5f0a1c3df511ab2b748983196c071e5dcd476d229b12eea"
   }
  }
 },
 "nbformat": 4,
 "nbformat_minor": 2
}
