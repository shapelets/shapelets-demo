{
 "cells": [
  {
   "cell_type": "markdown",
   "id": "01c24db7-5e9f-4fea-90b9-185df8a4aad0",
   "metadata": {},
   "source": [
    "# Manipulate data Examples\n",
    "\n",
    "In this notebook, you will find example about: \n",
    "\n",
    "- [Add a column](#Add-a-column)\n",
    "- [Rename a column](#Rename-a-column)\n",
    "- [Getting a subset of columns](#Getting-a-subset-of-columns)\n",
    "- [Remove a column](#Remove-a-column)\n",
    "    \n",
    "    "
   ]
  },
  {
   "cell_type": "code",
   "execution_count": 1,
   "id": "7bf4756e-8a1b-487f-8a88-12debd6f529b",
   "metadata": {},
   "outputs": [],
   "source": [
    "# Copyright (c) 2022 Grumpy Cat Software S.L.\n",
    "#\n",
    "# This Source Code is licensed under the MIT 2.0 license.\n",
    "# the terms can be found in LICENSE.md at the root of\n",
    "# this project, or at http://mozilla.org/MPL/2.0/.\n",
    "\n",
    "import shapelets as sh\n",
    "\n",
    "session = sh.sandbox()\n",
    "\n",
    "data = session.load_test_data()"
   ]
  },
  {
   "cell_type": "markdown",
   "id": "b288d063-86fd-40a2-812c-043294c74cc0",
   "metadata": {},
   "source": [
    "# Add a column"
   ]
  },
  {
   "cell_type": "code",
   "execution_count": 2,
   "id": "41b0be8b-4d59-41eb-889f-4173942d14a7",
   "metadata": {},
   "outputs": [],
   "source": [
    "data = data.add_column('new_feature', lambda row: row.Sepal_Length*row.Sepal_Width)"
   ]
  },
  {
   "cell_type": "code",
   "execution_count": 3,
   "id": "391cfe45-5ee1-4bb3-8dab-de68495b40f6",
   "metadata": {},
   "outputs": [
    {
     "data": {
      "text/html": [
       "<table>\n",
       "<thead>\n",
       "<tr><th>Column      </th><th>NumPy Type  </th><th>SQL Type  </th></tr>\n",
       "</thead>\n",
       "<tbody>\n",
       "<tr><td>new_feature </td><td>float64     </td><td>DOUBLE    </td></tr>\n",
       "<tr><td>Sepal_Length</td><td>float64     </td><td>DOUBLE    </td></tr>\n",
       "<tr><td>Sepal_Width </td><td>float64     </td><td>DOUBLE    </td></tr>\n",
       "<tr><td>Petal_Length</td><td>float64     </td><td>DOUBLE    </td></tr>\n",
       "<tr><td>Petal_Width </td><td>float64     </td><td>DOUBLE    </td></tr>\n",
       "<tr><td>Class       </td><td>object      </td><td>VARCHAR   </td></tr>\n",
       "</tbody>\n",
       "</table>"
      ],
      "text/latex": [
       "\\begin{tabular}{lll}\n",
       "\\hline\n",
       " Column       & NumPy Type   & SQL Type   \\\\\n",
       "\\hline\n",
       " new\\_feature  & float64      & DOUBLE     \\\\\n",
       " Sepal\\_Length & float64      & DOUBLE     \\\\\n",
       " Sepal\\_Width  & float64      & DOUBLE     \\\\\n",
       " Petal\\_Length & float64      & DOUBLE     \\\\\n",
       " Petal\\_Width  & float64      & DOUBLE     \\\\\n",
       " Class        & object       & VARCHAR    \\\\\n",
       "\\hline\n",
       "\\end{tabular}"
      ],
      "text/markdown": [
       "| Column       | NumPy Type   | SQL Type   |\n",
       "|--------------|--------------|------------|\n",
       "| new_feature  | float64      | DOUBLE     |\n",
       "| Sepal_Length | float64      | DOUBLE     |\n",
       "| Sepal_Width  | float64      | DOUBLE     |\n",
       "| Petal_Length | float64      | DOUBLE     |\n",
       "| Petal_Width  | float64      | DOUBLE     |\n",
       "| Class        | object       | VARCHAR    |"
      ],
      "text/plain": [
       "Column        NumPy Type    SQL Type\n",
       "new_feature   float64       DOUBLE\n",
       "Sepal_Length  float64       DOUBLE\n",
       "Sepal_Width   float64       DOUBLE\n",
       "Petal_Length  float64       DOUBLE\n",
       "Petal_Width   float64       DOUBLE\n",
       "Class         object        VARCHAR"
      ]
     },
     "execution_count": 3,
     "metadata": {},
     "output_type": "execute_result"
    }
   ],
   "source": [
    "data"
   ]
  },
  {
   "cell_type": "code",
   "execution_count": 4,
   "id": "c148a222-9af3-4210-be5d-72e8f91f0c89",
   "metadata": {},
   "outputs": [
    {
     "data": {
      "text/html": [
       "<div>\n",
       "<style scoped>\n",
       "    .dataframe tbody tr th:only-of-type {\n",
       "        vertical-align: middle;\n",
       "    }\n",
       "\n",
       "    .dataframe tbody tr th {\n",
       "        vertical-align: top;\n",
       "    }\n",
       "\n",
       "    .dataframe thead th {\n",
       "        text-align: right;\n",
       "    }\n",
       "</style>\n",
       "<table border=\"1\" class=\"dataframe\">\n",
       "  <thead>\n",
       "    <tr style=\"text-align: right;\">\n",
       "      <th></th>\n",
       "      <th>new_feature</th>\n",
       "      <th>Sepal_Length</th>\n",
       "      <th>Sepal_Width</th>\n",
       "      <th>Petal_Length</th>\n",
       "      <th>Petal_Width</th>\n",
       "      <th>Class</th>\n",
       "    </tr>\n",
       "  </thead>\n",
       "  <tbody>\n",
       "    <tr>\n",
       "      <th>0</th>\n",
       "      <td>17.85</td>\n",
       "      <td>5.1</td>\n",
       "      <td>3.5</td>\n",
       "      <td>1.4</td>\n",
       "      <td>0.2</td>\n",
       "      <td>Iris-setosa</td>\n",
       "    </tr>\n",
       "    <tr>\n",
       "      <th>1</th>\n",
       "      <td>14.70</td>\n",
       "      <td>4.9</td>\n",
       "      <td>3.0</td>\n",
       "      <td>1.4</td>\n",
       "      <td>0.2</td>\n",
       "      <td>Iris-setosa</td>\n",
       "    </tr>\n",
       "    <tr>\n",
       "      <th>2</th>\n",
       "      <td>15.04</td>\n",
       "      <td>4.7</td>\n",
       "      <td>3.2</td>\n",
       "      <td>1.3</td>\n",
       "      <td>0.2</td>\n",
       "      <td>Iris-setosa</td>\n",
       "    </tr>\n",
       "    <tr>\n",
       "      <th>3</th>\n",
       "      <td>14.26</td>\n",
       "      <td>4.6</td>\n",
       "      <td>3.1</td>\n",
       "      <td>1.5</td>\n",
       "      <td>0.2</td>\n",
       "      <td>Iris-setosa</td>\n",
       "    </tr>\n",
       "    <tr>\n",
       "      <th>4</th>\n",
       "      <td>18.00</td>\n",
       "      <td>5.0</td>\n",
       "      <td>3.6</td>\n",
       "      <td>1.4</td>\n",
       "      <td>0.2</td>\n",
       "      <td>Iris-setosa</td>\n",
       "    </tr>\n",
       "  </tbody>\n",
       "</table>\n",
       "</div>"
      ],
      "text/plain": [
       "   new_feature  Sepal_Length  Sepal_Width  Petal_Length  Petal_Width  \\\n",
       "0        17.85           5.1          3.5           1.4          0.2   \n",
       "1        14.70           4.9          3.0           1.4          0.2   \n",
       "2        15.04           4.7          3.2           1.3          0.2   \n",
       "3        14.26           4.6          3.1           1.5          0.2   \n",
       "4        18.00           5.0          3.6           1.4          0.2   \n",
       "\n",
       "         Class  \n",
       "0  Iris-setosa  \n",
       "1  Iris-setosa  \n",
       "2  Iris-setosa  \n",
       "3  Iris-setosa  \n",
       "4  Iris-setosa  "
      ]
     },
     "execution_count": 4,
     "metadata": {},
     "output_type": "execute_result"
    }
   ],
   "source": [
    "data.head()"
   ]
  },
  {
   "cell_type": "markdown",
   "id": "35d948d8-3bf0-44db-978e-1d20996dbbdb",
   "metadata": {},
   "source": [
    "# Rename a column"
   ]
  },
  {
   "cell_type": "code",
   "execution_count": 5,
   "id": "15b521ba-cc41-42ef-9a82-493b912e61c7",
   "metadata": {},
   "outputs": [],
   "source": [
    "data = data.rename_columns({'new_feature':'Sepal_Area'})"
   ]
  },
  {
   "cell_type": "code",
   "execution_count": 6,
   "id": "56ba795d-7222-4ea9-a924-8d1c93619244",
   "metadata": {},
   "outputs": [
    {
     "data": {
      "text/html": [
       "<table>\n",
       "<thead>\n",
       "<tr><th>Column      </th><th>NumPy Type  </th><th>SQL Type  </th></tr>\n",
       "</thead>\n",
       "<tbody>\n",
       "<tr><td>Sepal_Area  </td><td>float64     </td><td>DOUBLE    </td></tr>\n",
       "<tr><td>Sepal_Length</td><td>float64     </td><td>DOUBLE    </td></tr>\n",
       "<tr><td>Sepal_Width </td><td>float64     </td><td>DOUBLE    </td></tr>\n",
       "<tr><td>Petal_Length</td><td>float64     </td><td>DOUBLE    </td></tr>\n",
       "<tr><td>Petal_Width </td><td>float64     </td><td>DOUBLE    </td></tr>\n",
       "<tr><td>Class       </td><td>object      </td><td>VARCHAR   </td></tr>\n",
       "</tbody>\n",
       "</table>"
      ],
      "text/latex": [
       "\\begin{tabular}{lll}\n",
       "\\hline\n",
       " Column       & NumPy Type   & SQL Type   \\\\\n",
       "\\hline\n",
       " Sepal\\_Area   & float64      & DOUBLE     \\\\\n",
       " Sepal\\_Length & float64      & DOUBLE     \\\\\n",
       " Sepal\\_Width  & float64      & DOUBLE     \\\\\n",
       " Petal\\_Length & float64      & DOUBLE     \\\\\n",
       " Petal\\_Width  & float64      & DOUBLE     \\\\\n",
       " Class        & object       & VARCHAR    \\\\\n",
       "\\hline\n",
       "\\end{tabular}"
      ],
      "text/markdown": [
       "| Column       | NumPy Type   | SQL Type   |\n",
       "|--------------|--------------|------------|\n",
       "| Sepal_Area   | float64      | DOUBLE     |\n",
       "| Sepal_Length | float64      | DOUBLE     |\n",
       "| Sepal_Width  | float64      | DOUBLE     |\n",
       "| Petal_Length | float64      | DOUBLE     |\n",
       "| Petal_Width  | float64      | DOUBLE     |\n",
       "| Class        | object       | VARCHAR    |"
      ],
      "text/plain": [
       "Column        NumPy Type    SQL Type\n",
       "Sepal_Area    float64       DOUBLE\n",
       "Sepal_Length  float64       DOUBLE\n",
       "Sepal_Width   float64       DOUBLE\n",
       "Petal_Length  float64       DOUBLE\n",
       "Petal_Width   float64       DOUBLE\n",
       "Class         object        VARCHAR"
      ]
     },
     "execution_count": 6,
     "metadata": {},
     "output_type": "execute_result"
    }
   ],
   "source": [
    "data"
   ]
  },
  {
   "cell_type": "code",
   "execution_count": 7,
   "id": "203b172d-495a-49c8-b631-626b86e3935d",
   "metadata": {},
   "outputs": [
    {
     "data": {
      "text/html": [
       "<div>\n",
       "<style scoped>\n",
       "    .dataframe tbody tr th:only-of-type {\n",
       "        vertical-align: middle;\n",
       "    }\n",
       "\n",
       "    .dataframe tbody tr th {\n",
       "        vertical-align: top;\n",
       "    }\n",
       "\n",
       "    .dataframe thead th {\n",
       "        text-align: right;\n",
       "    }\n",
       "</style>\n",
       "<table border=\"1\" class=\"dataframe\">\n",
       "  <thead>\n",
       "    <tr style=\"text-align: right;\">\n",
       "      <th></th>\n",
       "      <th>Sepal_Area</th>\n",
       "      <th>Sepal_Length</th>\n",
       "      <th>Sepal_Width</th>\n",
       "      <th>Petal_Length</th>\n",
       "      <th>Petal_Width</th>\n",
       "      <th>Class</th>\n",
       "    </tr>\n",
       "  </thead>\n",
       "  <tbody>\n",
       "    <tr>\n",
       "      <th>0</th>\n",
       "      <td>17.85</td>\n",
       "      <td>5.1</td>\n",
       "      <td>3.5</td>\n",
       "      <td>1.4</td>\n",
       "      <td>0.2</td>\n",
       "      <td>Iris-setosa</td>\n",
       "    </tr>\n",
       "    <tr>\n",
       "      <th>1</th>\n",
       "      <td>14.70</td>\n",
       "      <td>4.9</td>\n",
       "      <td>3.0</td>\n",
       "      <td>1.4</td>\n",
       "      <td>0.2</td>\n",
       "      <td>Iris-setosa</td>\n",
       "    </tr>\n",
       "    <tr>\n",
       "      <th>2</th>\n",
       "      <td>15.04</td>\n",
       "      <td>4.7</td>\n",
       "      <td>3.2</td>\n",
       "      <td>1.3</td>\n",
       "      <td>0.2</td>\n",
       "      <td>Iris-setosa</td>\n",
       "    </tr>\n",
       "    <tr>\n",
       "      <th>3</th>\n",
       "      <td>14.26</td>\n",
       "      <td>4.6</td>\n",
       "      <td>3.1</td>\n",
       "      <td>1.5</td>\n",
       "      <td>0.2</td>\n",
       "      <td>Iris-setosa</td>\n",
       "    </tr>\n",
       "    <tr>\n",
       "      <th>4</th>\n",
       "      <td>18.00</td>\n",
       "      <td>5.0</td>\n",
       "      <td>3.6</td>\n",
       "      <td>1.4</td>\n",
       "      <td>0.2</td>\n",
       "      <td>Iris-setosa</td>\n",
       "    </tr>\n",
       "  </tbody>\n",
       "</table>\n",
       "</div>"
      ],
      "text/plain": [
       "   Sepal_Area  Sepal_Length  Sepal_Width  Petal_Length  Petal_Width  \\\n",
       "0       17.85           5.1          3.5           1.4          0.2   \n",
       "1       14.70           4.9          3.0           1.4          0.2   \n",
       "2       15.04           4.7          3.2           1.3          0.2   \n",
       "3       14.26           4.6          3.1           1.5          0.2   \n",
       "4       18.00           5.0          3.6           1.4          0.2   \n",
       "\n",
       "         Class  \n",
       "0  Iris-setosa  \n",
       "1  Iris-setosa  \n",
       "2  Iris-setosa  \n",
       "3  Iris-setosa  \n",
       "4  Iris-setosa  "
      ]
     },
     "execution_count": 7,
     "metadata": {},
     "output_type": "execute_result"
    }
   ],
   "source": [
    "data.head()"
   ]
  },
  {
   "cell_type": "markdown",
   "id": "c418c17a-8c66-49a5-ab11-69ddfedde9f0",
   "metadata": {},
   "source": [
    "# Getting a subset of columns"
   ]
  },
  {
   "cell_type": "code",
   "execution_count": 8,
   "id": "96f15346-c79d-4a61-9a54-8d94335ee417",
   "metadata": {},
   "outputs": [
    {
     "data": {
      "text/html": [
       "<table>\n",
       "<thead>\n",
       "<tr><th>Column      </th><th>NumPy Type  </th><th>SQL Type  </th></tr>\n",
       "</thead>\n",
       "<tbody>\n",
       "<tr><td>Sepal_Area  </td><td>float64     </td><td>DOUBLE    </td></tr>\n",
       "<tr><td>Sepal_Length</td><td>float64     </td><td>DOUBLE    </td></tr>\n",
       "<tr><td>Sepal_Width </td><td>float64     </td><td>DOUBLE    </td></tr>\n",
       "</tbody>\n",
       "</table>"
      ],
      "text/latex": [
       "\\begin{tabular}{lll}\n",
       "\\hline\n",
       " Column       & NumPy Type   & SQL Type   \\\\\n",
       "\\hline\n",
       " Sepal\\_Area   & float64      & DOUBLE     \\\\\n",
       " Sepal\\_Length & float64      & DOUBLE     \\\\\n",
       " Sepal\\_Width  & float64      & DOUBLE     \\\\\n",
       "\\hline\n",
       "\\end{tabular}"
      ],
      "text/markdown": [
       "| Column       | NumPy Type   | SQL Type   |\n",
       "|--------------|--------------|------------|\n",
       "| Sepal_Area   | float64      | DOUBLE     |\n",
       "| Sepal_Length | float64      | DOUBLE     |\n",
       "| Sepal_Width  | float64      | DOUBLE     |"
      ],
      "text/plain": [
       "Column        NumPy Type    SQL Type\n",
       "Sepal_Area    float64       DOUBLE\n",
       "Sepal_Length  float64       DOUBLE\n",
       "Sepal_Width   float64       DOUBLE"
      ]
     },
     "execution_count": 8,
     "metadata": {},
     "output_type": "execute_result"
    }
   ],
   "source": [
    "data.select_columns(['Sepal_Area','Sepal_Length','Sepal_Width'])\n"
   ]
  },
  {
   "cell_type": "code",
   "execution_count": 9,
   "id": "9b66a1cc-8827-48e5-8ad2-912ef2ad00c3",
   "metadata": {},
   "outputs": [
    {
     "data": {
      "text/html": [
       "<table>\n",
       "<thead>\n",
       "<tr><th>Column      </th><th>NumPy Type  </th><th>SQL Type  </th></tr>\n",
       "</thead>\n",
       "<tbody>\n",
       "<tr><td>Sepal_Area  </td><td>float64     </td><td>DOUBLE    </td></tr>\n",
       "<tr><td>Sepal_Length</td><td>float64     </td><td>DOUBLE    </td></tr>\n",
       "<tr><td>Sepal_Width </td><td>float64     </td><td>DOUBLE    </td></tr>\n",
       "</tbody>\n",
       "</table>"
      ],
      "text/latex": [
       "\\begin{tabular}{lll}\n",
       "\\hline\n",
       " Column       & NumPy Type   & SQL Type   \\\\\n",
       "\\hline\n",
       " Sepal\\_Area   & float64      & DOUBLE     \\\\\n",
       " Sepal\\_Length & float64      & DOUBLE     \\\\\n",
       " Sepal\\_Width  & float64      & DOUBLE     \\\\\n",
       "\\hline\n",
       "\\end{tabular}"
      ],
      "text/markdown": [
       "| Column       | NumPy Type   | SQL Type   |\n",
       "|--------------|--------------|------------|\n",
       "| Sepal_Area   | float64      | DOUBLE     |\n",
       "| Sepal_Length | float64      | DOUBLE     |\n",
       "| Sepal_Width  | float64      | DOUBLE     |"
      ],
      "text/plain": [
       "Column        NumPy Type    SQL Type\n",
       "Sepal_Area    float64       DOUBLE\n",
       "Sepal_Length  float64       DOUBLE\n",
       "Sepal_Width   float64       DOUBLE"
      ]
     },
     "execution_count": 9,
     "metadata": {},
     "output_type": "execute_result"
    }
   ],
   "source": [
    "data.select_columns([0,1,2])\n"
   ]
  },
  {
   "cell_type": "markdown",
   "id": "de8c1c9c-03c9-48ec-b72c-49c00effdd97",
   "metadata": {},
   "source": [
    "# Remove a column"
   ]
  },
  {
   "cell_type": "code",
   "execution_count": 10,
   "id": "b8d07b8b-d3a2-44da-a7a5-c363a22b9c6b",
   "metadata": {},
   "outputs": [],
   "source": [
    "data = data.drop_columns(['Class'])"
   ]
  },
  {
   "cell_type": "code",
   "execution_count": 11,
   "id": "dc34b979-ed94-422d-a582-6def67c8356e",
   "metadata": {},
   "outputs": [
    {
     "data": {
      "text/html": [
       "<table>\n",
       "<thead>\n",
       "<tr><th>Column      </th><th>NumPy Type  </th><th>SQL Type  </th></tr>\n",
       "</thead>\n",
       "<tbody>\n",
       "<tr><td>Sepal_Area  </td><td>float64     </td><td>DOUBLE    </td></tr>\n",
       "<tr><td>Sepal_Length</td><td>float64     </td><td>DOUBLE    </td></tr>\n",
       "<tr><td>Sepal_Width </td><td>float64     </td><td>DOUBLE    </td></tr>\n",
       "<tr><td>Petal_Length</td><td>float64     </td><td>DOUBLE    </td></tr>\n",
       "<tr><td>Petal_Width </td><td>float64     </td><td>DOUBLE    </td></tr>\n",
       "</tbody>\n",
       "</table>"
      ],
      "text/latex": [
       "\\begin{tabular}{lll}\n",
       "\\hline\n",
       " Column       & NumPy Type   & SQL Type   \\\\\n",
       "\\hline\n",
       " Sepal\\_Area   & float64      & DOUBLE     \\\\\n",
       " Sepal\\_Length & float64      & DOUBLE     \\\\\n",
       " Sepal\\_Width  & float64      & DOUBLE     \\\\\n",
       " Petal\\_Length & float64      & DOUBLE     \\\\\n",
       " Petal\\_Width  & float64      & DOUBLE     \\\\\n",
       "\\hline\n",
       "\\end{tabular}"
      ],
      "text/markdown": [
       "| Column       | NumPy Type   | SQL Type   |\n",
       "|--------------|--------------|------------|\n",
       "| Sepal_Area   | float64      | DOUBLE     |\n",
       "| Sepal_Length | float64      | DOUBLE     |\n",
       "| Sepal_Width  | float64      | DOUBLE     |\n",
       "| Petal_Length | float64      | DOUBLE     |\n",
       "| Petal_Width  | float64      | DOUBLE     |"
      ],
      "text/plain": [
       "Column        NumPy Type    SQL Type\n",
       "Sepal_Area    float64       DOUBLE\n",
       "Sepal_Length  float64       DOUBLE\n",
       "Sepal_Width   float64       DOUBLE\n",
       "Petal_Length  float64       DOUBLE\n",
       "Petal_Width   float64       DOUBLE"
      ]
     },
     "execution_count": 11,
     "metadata": {},
     "output_type": "execute_result"
    }
   ],
   "source": [
    "data"
   ]
  }
 ],
 "metadata": {
  "kernelspec": {
   "display_name": "Python 3.8.10 ('entorno': venv)",
   "language": "python",
   "name": "python3"
  },
  "language_info": {
   "codemirror_mode": {
    "name": "ipython",
    "version": 3
   },
   "file_extension": ".py",
   "mimetype": "text/x-python",
   "name": "python",
   "nbconvert_exporter": "python",
   "pygments_lexer": "ipython3",
   "version": "3.8.10"
  },
  "vscode": {
   "interpreter": {
    "hash": "ee94cdef5da8510cbd67e6f8cf4520340b2d70b255e0b4cbdd27ea986ec0b118"
   }
  }
 },
 "nbformat": 4,
 "nbformat_minor": 5
}
