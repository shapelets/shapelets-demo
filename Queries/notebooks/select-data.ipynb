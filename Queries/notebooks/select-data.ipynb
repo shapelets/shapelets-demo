{
 "cells": [
  {
   "cell_type": "markdown",
   "metadata": {},
   "source": [
    "# Selecting data Examples\n",
    "\n",
    "In this notebook, you will find example about: \n",
    "\n",
    "- [Inspect a Dataset](#Inspect-a-DataSet)  \n",
    "    - [Show first rows](#Show-first-rows)\n",
    "    - [Show last rows](#Show-last-rows)\n",
    "- [DataSet description](#DataSet-Description)\n",
    "    - [Get the number of rows](#Get-the-number-of-rows)\n",
    "    - [Get the columns of a DataSet](#Get-the-columns-of-a-DataSet)\n",
    "    - [Get the shape of a DataSet](#Get-the-shape-of-a-DataSet)\n",
    "    - [Get a descriptive statitics summary of a DataSet](#Get-a-descriptive-statitics-summary-of-a-DataSet)\n",
    "- [Select Data](#Select-Data)\n",
    "    - [Select all rows](#Select-all-rows)\n",
    "    - [Select specific columns](#Select-specifics-columns)\n",
    "    - [Make a filter](#Make-a-filter)\n",
    "    - [Sort Data](#Sort-Data)\n",
    "- [ Aggregate Data](#Aggregate-Data)\n",
    "    \n",
    "    "
   ]
  },
  {
   "cell_type": "code",
   "execution_count": 1,
   "metadata": {},
   "outputs": [],
   "source": [
    "# Copyright (c) 2022 Grumpy Cat Software S.L.\n",
    "#\n",
    "# This Source Code is licensed under the MIT 2.0 license.\n",
    "# the terms can be found in LICENSE.md at the root of\n",
    "# this project, or at http://mozilla.org/MPL/2.0/.\n",
    "\n",
    "import shapelets as sh\n",
    "\n",
    "session = sh.sandbox()\n",
    "\n",
    "data = session.load_test_data()"
   ]
  },
  {
   "cell_type": "markdown",
   "metadata": {},
   "source": [
    "# Inspect a DataSet"
   ]
  },
  {
   "cell_type": "markdown",
   "metadata": {},
   "source": [
    "## Show first rows"
   ]
  },
  {
   "cell_type": "code",
   "execution_count": 2,
   "metadata": {},
   "outputs": [
    {
     "data": {
      "text/html": [
       "<div>\n",
       "<style scoped>\n",
       "    .dataframe tbody tr th:only-of-type {\n",
       "        vertical-align: middle;\n",
       "    }\n",
       "\n",
       "    .dataframe tbody tr th {\n",
       "        vertical-align: top;\n",
       "    }\n",
       "\n",
       "    .dataframe thead th {\n",
       "        text-align: right;\n",
       "    }\n",
       "</style>\n",
       "<table border=\"1\" class=\"dataframe\">\n",
       "  <thead>\n",
       "    <tr style=\"text-align: right;\">\n",
       "      <th></th>\n",
       "      <th>Sepal_Length</th>\n",
       "      <th>Sepal_Width</th>\n",
       "      <th>Petal_Length</th>\n",
       "      <th>Petal_Width</th>\n",
       "      <th>Class</th>\n",
       "    </tr>\n",
       "  </thead>\n",
       "  <tbody>\n",
       "    <tr>\n",
       "      <th>0</th>\n",
       "      <td>5.1</td>\n",
       "      <td>3.5</td>\n",
       "      <td>1.4</td>\n",
       "      <td>0.2</td>\n",
       "      <td>Iris-setosa</td>\n",
       "    </tr>\n",
       "    <tr>\n",
       "      <th>1</th>\n",
       "      <td>4.9</td>\n",
       "      <td>3.0</td>\n",
       "      <td>1.4</td>\n",
       "      <td>0.2</td>\n",
       "      <td>Iris-setosa</td>\n",
       "    </tr>\n",
       "    <tr>\n",
       "      <th>2</th>\n",
       "      <td>4.7</td>\n",
       "      <td>3.2</td>\n",
       "      <td>1.3</td>\n",
       "      <td>0.2</td>\n",
       "      <td>Iris-setosa</td>\n",
       "    </tr>\n",
       "    <tr>\n",
       "      <th>3</th>\n",
       "      <td>4.6</td>\n",
       "      <td>3.1</td>\n",
       "      <td>1.5</td>\n",
       "      <td>0.2</td>\n",
       "      <td>Iris-setosa</td>\n",
       "    </tr>\n",
       "    <tr>\n",
       "      <th>4</th>\n",
       "      <td>5.0</td>\n",
       "      <td>3.6</td>\n",
       "      <td>1.4</td>\n",
       "      <td>0.2</td>\n",
       "      <td>Iris-setosa</td>\n",
       "    </tr>\n",
       "  </tbody>\n",
       "</table>\n",
       "</div>"
      ],
      "text/plain": [
       "   Sepal_Length  Sepal_Width  Petal_Length  Petal_Width        Class\n",
       "0           5.1          3.5           1.4          0.2  Iris-setosa\n",
       "1           4.9          3.0           1.4          0.2  Iris-setosa\n",
       "2           4.7          3.2           1.3          0.2  Iris-setosa\n",
       "3           4.6          3.1           1.5          0.2  Iris-setosa\n",
       "4           5.0          3.6           1.4          0.2  Iris-setosa"
      ]
     },
     "execution_count": 2,
     "metadata": {},
     "output_type": "execute_result"
    }
   ],
   "source": [
    "data.head(n=5)"
   ]
  },
  {
   "cell_type": "markdown",
   "metadata": {},
   "source": [
    "## Show last rows"
   ]
  },
  {
   "cell_type": "code",
   "execution_count": 3,
   "metadata": {},
   "outputs": [
    {
     "data": {
      "text/html": [
       "<div>\n",
       "<style scoped>\n",
       "    .dataframe tbody tr th:only-of-type {\n",
       "        vertical-align: middle;\n",
       "    }\n",
       "\n",
       "    .dataframe tbody tr th {\n",
       "        vertical-align: top;\n",
       "    }\n",
       "\n",
       "    .dataframe thead th {\n",
       "        text-align: right;\n",
       "    }\n",
       "</style>\n",
       "<table border=\"1\" class=\"dataframe\">\n",
       "  <thead>\n",
       "    <tr style=\"text-align: right;\">\n",
       "      <th></th>\n",
       "      <th>Sepal_Length</th>\n",
       "      <th>Sepal_Width</th>\n",
       "      <th>Petal_Length</th>\n",
       "      <th>Petal_Width</th>\n",
       "      <th>Class</th>\n",
       "    </tr>\n",
       "  </thead>\n",
       "  <tbody>\n",
       "    <tr>\n",
       "      <th>0</th>\n",
       "      <td>6.7</td>\n",
       "      <td>3.0</td>\n",
       "      <td>5.2</td>\n",
       "      <td>2.3</td>\n",
       "      <td>Iris-virginica</td>\n",
       "    </tr>\n",
       "    <tr>\n",
       "      <th>1</th>\n",
       "      <td>6.3</td>\n",
       "      <td>2.5</td>\n",
       "      <td>5.0</td>\n",
       "      <td>1.9</td>\n",
       "      <td>Iris-virginica</td>\n",
       "    </tr>\n",
       "    <tr>\n",
       "      <th>2</th>\n",
       "      <td>6.5</td>\n",
       "      <td>3.0</td>\n",
       "      <td>5.2</td>\n",
       "      <td>2.0</td>\n",
       "      <td>Iris-virginica</td>\n",
       "    </tr>\n",
       "    <tr>\n",
       "      <th>3</th>\n",
       "      <td>6.2</td>\n",
       "      <td>3.4</td>\n",
       "      <td>5.4</td>\n",
       "      <td>2.3</td>\n",
       "      <td>Iris-virginica</td>\n",
       "    </tr>\n",
       "    <tr>\n",
       "      <th>4</th>\n",
       "      <td>5.9</td>\n",
       "      <td>3.0</td>\n",
       "      <td>5.1</td>\n",
       "      <td>1.8</td>\n",
       "      <td>Iris-virginica</td>\n",
       "    </tr>\n",
       "  </tbody>\n",
       "</table>\n",
       "</div>"
      ],
      "text/plain": [
       "   Sepal_Length  Sepal_Width  Petal_Length  Petal_Width           Class\n",
       "0           6.7          3.0           5.2          2.3  Iris-virginica\n",
       "1           6.3          2.5           5.0          1.9  Iris-virginica\n",
       "2           6.5          3.0           5.2          2.0  Iris-virginica\n",
       "3           6.2          3.4           5.4          2.3  Iris-virginica\n",
       "4           5.9          3.0           5.1          1.8  Iris-virginica"
      ]
     },
     "execution_count": 3,
     "metadata": {},
     "output_type": "execute_result"
    }
   ],
   "source": [
    "data.tail(n=5)"
   ]
  },
  {
   "cell_type": "markdown",
   "metadata": {},
   "source": [
    "# DataSet Description"
   ]
  },
  {
   "cell_type": "markdown",
   "metadata": {},
   "source": [
    "## Get the number of rows"
   ]
  },
  {
   "cell_type": "code",
   "execution_count": 4,
   "metadata": {},
   "outputs": [
    {
     "data": {
      "text/plain": [
       "150"
      ]
     },
     "execution_count": 4,
     "metadata": {},
     "output_type": "execute_result"
    }
   ],
   "source": [
    "len(data)"
   ]
  },
  {
   "cell_type": "markdown",
   "metadata": {},
   "source": [
    "## Get the columns of a DataSet"
   ]
  },
  {
   "cell_type": "code",
   "execution_count": 5,
   "metadata": {},
   "outputs": [
    {
     "data": {
      "text/plain": [
       "['Sepal_Length', 'Sepal_Width', 'Petal_Length', 'Petal_Width', 'Class']"
      ]
     },
     "execution_count": 5,
     "metadata": {},
     "output_type": "execute_result"
    }
   ],
   "source": [
    "data.columns"
   ]
  },
  {
   "cell_type": "markdown",
   "metadata": {},
   "source": [
    "## Get the shape of a DataSet"
   ]
  },
  {
   "cell_type": "code",
   "execution_count": 6,
   "metadata": {},
   "outputs": [
    {
     "data": {
      "text/plain": [
       "(150, 5)"
      ]
     },
     "execution_count": 6,
     "metadata": {},
     "output_type": "execute_result"
    }
   ],
   "source": [
    "data.shape()"
   ]
  },
  {
   "cell_type": "markdown",
   "metadata": {},
   "source": [
    "## Get a descriptive statitics summary of a DataSet"
   ]
  },
  {
   "cell_type": "code",
   "execution_count": 7,
   "metadata": {},
   "outputs": [
    {
     "data": {
      "text/html": [
       "<div>\n",
       "<style scoped>\n",
       "    .dataframe tbody tr th:only-of-type {\n",
       "        vertical-align: middle;\n",
       "    }\n",
       "\n",
       "    .dataframe tbody tr th {\n",
       "        vertical-align: top;\n",
       "    }\n",
       "\n",
       "    .dataframe thead th {\n",
       "        text-align: right;\n",
       "    }\n",
       "</style>\n",
       "<table border=\"1\" class=\"dataframe\">\n",
       "  <thead>\n",
       "    <tr style=\"text-align: right;\">\n",
       "      <th></th>\n",
       "      <th>column_name</th>\n",
       "      <th>column_type</th>\n",
       "      <th>min</th>\n",
       "      <th>max</th>\n",
       "      <th>approx_unique</th>\n",
       "      <th>avg</th>\n",
       "      <th>std</th>\n",
       "      <th>q25</th>\n",
       "      <th>q50</th>\n",
       "      <th>q75</th>\n",
       "      <th>count</th>\n",
       "      <th>null_percentage</th>\n",
       "    </tr>\n",
       "  </thead>\n",
       "  <tbody>\n",
       "    <tr>\n",
       "      <th>0</th>\n",
       "      <td>Sepal_Length</td>\n",
       "      <td>DOUBLE</td>\n",
       "      <td>4.3</td>\n",
       "      <td>7.9</td>\n",
       "      <td>35</td>\n",
       "      <td>5.843333333333335</td>\n",
       "      <td>0.8280661279778637</td>\n",
       "      <td>5.1</td>\n",
       "      <td>5.8</td>\n",
       "      <td>6.4</td>\n",
       "      <td>150</td>\n",
       "      <td>0.0%</td>\n",
       "    </tr>\n",
       "    <tr>\n",
       "      <th>1</th>\n",
       "      <td>Sepal_Width</td>\n",
       "      <td>DOUBLE</td>\n",
       "      <td>2.0</td>\n",
       "      <td>4.4</td>\n",
       "      <td>23</td>\n",
       "      <td>3.0540000000000007</td>\n",
       "      <td>0.43359431136217375</td>\n",
       "      <td>2.8</td>\n",
       "      <td>3.0</td>\n",
       "      <td>3.3124999999999996</td>\n",
       "      <td>150</td>\n",
       "      <td>0.0%</td>\n",
       "    </tr>\n",
       "    <tr>\n",
       "      <th>2</th>\n",
       "      <td>Petal_Length</td>\n",
       "      <td>DOUBLE</td>\n",
       "      <td>1.0</td>\n",
       "      <td>6.9</td>\n",
       "      <td>41</td>\n",
       "      <td>3.7586666666666693</td>\n",
       "      <td>1.764420419952262</td>\n",
       "      <td>1.5750000000000002</td>\n",
       "      <td>4.35</td>\n",
       "      <td>5.1</td>\n",
       "      <td>150</td>\n",
       "      <td>0.0%</td>\n",
       "    </tr>\n",
       "    <tr>\n",
       "      <th>3</th>\n",
       "      <td>Petal_Width</td>\n",
       "      <td>DOUBLE</td>\n",
       "      <td>0.1</td>\n",
       "      <td>2.5</td>\n",
       "      <td>22</td>\n",
       "      <td>1.1986666666666672</td>\n",
       "      <td>0.7631607417008414</td>\n",
       "      <td>0.3</td>\n",
       "      <td>1.3</td>\n",
       "      <td>1.8</td>\n",
       "      <td>150</td>\n",
       "      <td>0.0%</td>\n",
       "    </tr>\n",
       "    <tr>\n",
       "      <th>4</th>\n",
       "      <td>Class</td>\n",
       "      <td>VARCHAR</td>\n",
       "      <td>Iris-setosa</td>\n",
       "      <td>Iris-virginica</td>\n",
       "      <td>3</td>\n",
       "      <td>NaN</td>\n",
       "      <td>NaN</td>\n",
       "      <td>NaN</td>\n",
       "      <td>NaN</td>\n",
       "      <td>NaN</td>\n",
       "      <td>150</td>\n",
       "      <td>0.0%</td>\n",
       "    </tr>\n",
       "  </tbody>\n",
       "</table>\n",
       "</div>"
      ],
      "text/plain": [
       "    column_name column_type          min             max approx_unique  \\\n",
       "0  Sepal_Length      DOUBLE          4.3             7.9            35   \n",
       "1   Sepal_Width      DOUBLE          2.0             4.4            23   \n",
       "2  Petal_Length      DOUBLE          1.0             6.9            41   \n",
       "3   Petal_Width      DOUBLE          0.1             2.5            22   \n",
       "4         Class     VARCHAR  Iris-setosa  Iris-virginica             3   \n",
       "\n",
       "                  avg                  std                 q25   q50  \\\n",
       "0   5.843333333333335   0.8280661279778637                 5.1   5.8   \n",
       "1  3.0540000000000007  0.43359431136217375                 2.8   3.0   \n",
       "2  3.7586666666666693    1.764420419952262  1.5750000000000002  4.35   \n",
       "3  1.1986666666666672   0.7631607417008414                 0.3   1.3   \n",
       "4                 NaN                  NaN                 NaN   NaN   \n",
       "\n",
       "                  q75  count null_percentage  \n",
       "0                 6.4    150            0.0%  \n",
       "1  3.3124999999999996    150            0.0%  \n",
       "2                 5.1    150            0.0%  \n",
       "3                 1.8    150            0.0%  \n",
       "4                 NaN    150            0.0%  "
      ]
     },
     "execution_count": 7,
     "metadata": {},
     "output_type": "execute_result"
    }
   ],
   "source": [
    "data.describe()"
   ]
  },
  {
   "cell_type": "markdown",
   "metadata": {},
   "source": [
    "# Select Data"
   ]
  },
  {
   "cell_type": "markdown",
   "metadata": {},
   "source": [
    "## Select all rows"
   ]
  },
  {
   "cell_type": "code",
   "execution_count": 8,
   "metadata": {},
   "outputs": [
    {
     "data": {
      "text/html": [
       "<table>\n",
       "<thead>\n",
       "<tr><th>Column      </th><th>NumPy Type  </th><th>SQL Type  </th></tr>\n",
       "</thead>\n",
       "<tbody>\n",
       "<tr><td>sepal_length</td><td>float64     </td><td>DOUBLE    </td></tr>\n",
       "<tr><td>sepal_width </td><td>float64     </td><td>DOUBLE    </td></tr>\n",
       "<tr><td>petal_length</td><td>float64     </td><td>DOUBLE    </td></tr>\n",
       "<tr><td>petal_width </td><td>float64     </td><td>DOUBLE    </td></tr>\n",
       "<tr><td>class       </td><td>object      </td><td>VARCHAR   </td></tr>\n",
       "</tbody>\n",
       "</table>"
      ],
      "text/latex": [
       "\\begin{tabular}{lll}\n",
       "\\hline\n",
       " Column       & NumPy Type   & SQL Type   \\\\\n",
       "\\hline\n",
       " sepal\\_length & float64      & DOUBLE     \\\\\n",
       " sepal\\_width  & float64      & DOUBLE     \\\\\n",
       " petal\\_length & float64      & DOUBLE     \\\\\n",
       " petal\\_width  & float64      & DOUBLE     \\\\\n",
       " class        & object       & VARCHAR    \\\\\n",
       "\\hline\n",
       "\\end{tabular}"
      ],
      "text/markdown": [
       "| Column       | NumPy Type   | SQL Type   |\n",
       "|--------------|--------------|------------|\n",
       "| sepal_length | float64      | DOUBLE     |\n",
       "| sepal_width  | float64      | DOUBLE     |\n",
       "| petal_length | float64      | DOUBLE     |\n",
       "| petal_width  | float64      | DOUBLE     |\n",
       "| class        | object       | VARCHAR    |"
      ],
      "text/plain": [
       "Column        NumPy Type    SQL Type\n",
       "sepal_length  float64       DOUBLE\n",
       "sepal_width   float64       DOUBLE\n",
       "petal_length  float64       DOUBLE\n",
       "petal_width   float64       DOUBLE\n",
       "class         object        VARCHAR"
      ]
     },
     "execution_count": 8,
     "metadata": {},
     "output_type": "execute_result"
    }
   ],
   "source": [
    "session.map(x for x in data)"
   ]
  },
  {
   "cell_type": "code",
   "execution_count": 9,
   "metadata": {},
   "outputs": [
    {
     "data": {
      "text/html": [
       "<div>\n",
       "<style scoped>\n",
       "    .dataframe tbody tr th:only-of-type {\n",
       "        vertical-align: middle;\n",
       "    }\n",
       "\n",
       "    .dataframe tbody tr th {\n",
       "        vertical-align: top;\n",
       "    }\n",
       "\n",
       "    .dataframe thead th {\n",
       "        text-align: right;\n",
       "    }\n",
       "</style>\n",
       "<table border=\"1\" class=\"dataframe\">\n",
       "  <thead>\n",
       "    <tr style=\"text-align: right;\">\n",
       "      <th></th>\n",
       "      <th>Sepal_Length</th>\n",
       "      <th>Sepal_Width</th>\n",
       "      <th>Petal_Length</th>\n",
       "      <th>Petal_Width</th>\n",
       "      <th>Class</th>\n",
       "    </tr>\n",
       "  </thead>\n",
       "  <tbody>\n",
       "    <tr>\n",
       "      <th>0</th>\n",
       "      <td>5.1</td>\n",
       "      <td>3.5</td>\n",
       "      <td>1.4</td>\n",
       "      <td>0.2</td>\n",
       "      <td>Iris-setosa</td>\n",
       "    </tr>\n",
       "    <tr>\n",
       "      <th>1</th>\n",
       "      <td>4.9</td>\n",
       "      <td>3.0</td>\n",
       "      <td>1.4</td>\n",
       "      <td>0.2</td>\n",
       "      <td>Iris-setosa</td>\n",
       "    </tr>\n",
       "    <tr>\n",
       "      <th>2</th>\n",
       "      <td>4.7</td>\n",
       "      <td>3.2</td>\n",
       "      <td>1.3</td>\n",
       "      <td>0.2</td>\n",
       "      <td>Iris-setosa</td>\n",
       "    </tr>\n",
       "    <tr>\n",
       "      <th>3</th>\n",
       "      <td>4.6</td>\n",
       "      <td>3.1</td>\n",
       "      <td>1.5</td>\n",
       "      <td>0.2</td>\n",
       "      <td>Iris-setosa</td>\n",
       "    </tr>\n",
       "    <tr>\n",
       "      <th>4</th>\n",
       "      <td>5.0</td>\n",
       "      <td>3.6</td>\n",
       "      <td>1.4</td>\n",
       "      <td>0.2</td>\n",
       "      <td>Iris-setosa</td>\n",
       "    </tr>\n",
       "  </tbody>\n",
       "</table>\n",
       "</div>"
      ],
      "text/plain": [
       "   Sepal_Length  Sepal_Width  Petal_Length  Petal_Width        Class\n",
       "0           5.1          3.5           1.4          0.2  Iris-setosa\n",
       "1           4.9          3.0           1.4          0.2  Iris-setosa\n",
       "2           4.7          3.2           1.3          0.2  Iris-setosa\n",
       "3           4.6          3.1           1.5          0.2  Iris-setosa\n",
       "4           5.0          3.6           1.4          0.2  Iris-setosa"
      ]
     },
     "execution_count": 9,
     "metadata": {},
     "output_type": "execute_result"
    }
   ],
   "source": [
    "session.map(x for x in data).head()"
   ]
  },
  {
   "cell_type": "markdown",
   "metadata": {},
   "source": [
    "## Select specifics columns"
   ]
  },
  {
   "cell_type": "code",
   "execution_count": 10,
   "metadata": {},
   "outputs": [
    {
     "data": {
      "text/html": [
       "<table>\n",
       "<thead>\n",
       "<tr><th>Column      </th><th>NumPy Type  </th><th>SQL Type  </th></tr>\n",
       "</thead>\n",
       "<tbody>\n",
       "<tr><td>sepal_length</td><td>float64     </td><td>DOUBLE    </td></tr>\n",
       "<tr><td>sepal_width </td><td>float64     </td><td>DOUBLE    </td></tr>\n",
       "</tbody>\n",
       "</table>"
      ],
      "text/latex": [
       "\\begin{tabular}{lll}\n",
       "\\hline\n",
       " Column       & NumPy Type   & SQL Type   \\\\\n",
       "\\hline\n",
       " sepal\\_length & float64      & DOUBLE     \\\\\n",
       " sepal\\_width  & float64      & DOUBLE     \\\\\n",
       "\\hline\n",
       "\\end{tabular}"
      ],
      "text/markdown": [
       "| Column       | NumPy Type   | SQL Type   |\n",
       "|--------------|--------------|------------|\n",
       "| sepal_length | float64      | DOUBLE     |\n",
       "| sepal_width  | float64      | DOUBLE     |"
      ],
      "text/plain": [
       "Column        NumPy Type    SQL Type\n",
       "sepal_length  float64       DOUBLE\n",
       "sepal_width   float64       DOUBLE"
      ]
     },
     "execution_count": 10,
     "metadata": {},
     "output_type": "execute_result"
    }
   ],
   "source": [
    "session.map((x.Sepal_Length,x.Sepal_Width) for x in data)"
   ]
  },
  {
   "cell_type": "code",
   "execution_count": 11,
   "metadata": {},
   "outputs": [
    {
     "data": {
      "text/html": [
       "<div>\n",
       "<style scoped>\n",
       "    .dataframe tbody tr th:only-of-type {\n",
       "        vertical-align: middle;\n",
       "    }\n",
       "\n",
       "    .dataframe tbody tr th {\n",
       "        vertical-align: top;\n",
       "    }\n",
       "\n",
       "    .dataframe thead th {\n",
       "        text-align: right;\n",
       "    }\n",
       "</style>\n",
       "<table border=\"1\" class=\"dataframe\">\n",
       "  <thead>\n",
       "    <tr style=\"text-align: right;\">\n",
       "      <th></th>\n",
       "      <th>Sepal_Length</th>\n",
       "      <th>Sepal_Width</th>\n",
       "    </tr>\n",
       "  </thead>\n",
       "  <tbody>\n",
       "    <tr>\n",
       "      <th>0</th>\n",
       "      <td>5.1</td>\n",
       "      <td>3.5</td>\n",
       "    </tr>\n",
       "    <tr>\n",
       "      <th>1</th>\n",
       "      <td>4.9</td>\n",
       "      <td>3.0</td>\n",
       "    </tr>\n",
       "    <tr>\n",
       "      <th>2</th>\n",
       "      <td>4.7</td>\n",
       "      <td>3.2</td>\n",
       "    </tr>\n",
       "    <tr>\n",
       "      <th>3</th>\n",
       "      <td>4.6</td>\n",
       "      <td>3.1</td>\n",
       "    </tr>\n",
       "    <tr>\n",
       "      <th>4</th>\n",
       "      <td>5.0</td>\n",
       "      <td>3.6</td>\n",
       "    </tr>\n",
       "  </tbody>\n",
       "</table>\n",
       "</div>"
      ],
      "text/plain": [
       "   Sepal_Length  Sepal_Width\n",
       "0           5.1          3.5\n",
       "1           4.9          3.0\n",
       "2           4.7          3.2\n",
       "3           4.6          3.1\n",
       "4           5.0          3.6"
      ]
     },
     "execution_count": 11,
     "metadata": {},
     "output_type": "execute_result"
    }
   ],
   "source": [
    "session.map((x.Sepal_Length,x.Sepal_Width) for x in data).head()"
   ]
  },
  {
   "cell_type": "markdown",
   "metadata": {},
   "source": [
    "## Make a filter"
   ]
  },
  {
   "cell_type": "code",
   "execution_count": 12,
   "metadata": {},
   "outputs": [
    {
     "data": {
      "text/html": [
       "<table>\n",
       "<thead>\n",
       "<tr><th>Column      </th><th>NumPy Type  </th><th>SQL Type  </th></tr>\n",
       "</thead>\n",
       "<tbody>\n",
       "<tr><td>sepal_length</td><td>float64     </td><td>DOUBLE    </td></tr>\n",
       "<tr><td>sepal_width </td><td>float64     </td><td>DOUBLE    </td></tr>\n",
       "<tr><td>petal_length</td><td>float64     </td><td>DOUBLE    </td></tr>\n",
       "<tr><td>petal_width </td><td>float64     </td><td>DOUBLE    </td></tr>\n",
       "<tr><td>class       </td><td>object      </td><td>VARCHAR   </td></tr>\n",
       "</tbody>\n",
       "</table>"
      ],
      "text/latex": [
       "\\begin{tabular}{lll}\n",
       "\\hline\n",
       " Column       & NumPy Type   & SQL Type   \\\\\n",
       "\\hline\n",
       " sepal\\_length & float64      & DOUBLE     \\\\\n",
       " sepal\\_width  & float64      & DOUBLE     \\\\\n",
       " petal\\_length & float64      & DOUBLE     \\\\\n",
       " petal\\_width  & float64      & DOUBLE     \\\\\n",
       " class        & object       & VARCHAR    \\\\\n",
       "\\hline\n",
       "\\end{tabular}"
      ],
      "text/markdown": [
       "| Column       | NumPy Type   | SQL Type   |\n",
       "|--------------|--------------|------------|\n",
       "| sepal_length | float64      | DOUBLE     |\n",
       "| sepal_width  | float64      | DOUBLE     |\n",
       "| petal_length | float64      | DOUBLE     |\n",
       "| petal_width  | float64      | DOUBLE     |\n",
       "| class        | object       | VARCHAR    |"
      ],
      "text/plain": [
       "Column        NumPy Type    SQL Type\n",
       "sepal_length  float64       DOUBLE\n",
       "sepal_width   float64       DOUBLE\n",
       "petal_length  float64       DOUBLE\n",
       "petal_width   float64       DOUBLE\n",
       "class         object        VARCHAR"
      ]
     },
     "execution_count": 12,
     "metadata": {},
     "output_type": "execute_result"
    }
   ],
   "source": [
    "session.map(x for x in data if x.Petal_Length > 1.5)"
   ]
  },
  {
   "cell_type": "code",
   "execution_count": 13,
   "metadata": {},
   "outputs": [
    {
     "data": {
      "text/html": [
       "<div>\n",
       "<style scoped>\n",
       "    .dataframe tbody tr th:only-of-type {\n",
       "        vertical-align: middle;\n",
       "    }\n",
       "\n",
       "    .dataframe tbody tr th {\n",
       "        vertical-align: top;\n",
       "    }\n",
       "\n",
       "    .dataframe thead th {\n",
       "        text-align: right;\n",
       "    }\n",
       "</style>\n",
       "<table border=\"1\" class=\"dataframe\">\n",
       "  <thead>\n",
       "    <tr style=\"text-align: right;\">\n",
       "      <th></th>\n",
       "      <th>Sepal_Length</th>\n",
       "      <th>Sepal_Width</th>\n",
       "      <th>Petal_Length</th>\n",
       "      <th>Petal_Width</th>\n",
       "      <th>Class</th>\n",
       "    </tr>\n",
       "  </thead>\n",
       "  <tbody>\n",
       "    <tr>\n",
       "      <th>0</th>\n",
       "      <td>5.4</td>\n",
       "      <td>3.9</td>\n",
       "      <td>1.7</td>\n",
       "      <td>0.4</td>\n",
       "      <td>Iris-setosa</td>\n",
       "    </tr>\n",
       "    <tr>\n",
       "      <th>1</th>\n",
       "      <td>4.8</td>\n",
       "      <td>3.4</td>\n",
       "      <td>1.6</td>\n",
       "      <td>0.2</td>\n",
       "      <td>Iris-setosa</td>\n",
       "    </tr>\n",
       "    <tr>\n",
       "      <th>2</th>\n",
       "      <td>5.7</td>\n",
       "      <td>3.8</td>\n",
       "      <td>1.7</td>\n",
       "      <td>0.3</td>\n",
       "      <td>Iris-setosa</td>\n",
       "    </tr>\n",
       "    <tr>\n",
       "      <th>3</th>\n",
       "      <td>5.4</td>\n",
       "      <td>3.4</td>\n",
       "      <td>1.7</td>\n",
       "      <td>0.2</td>\n",
       "      <td>Iris-setosa</td>\n",
       "    </tr>\n",
       "    <tr>\n",
       "      <th>4</th>\n",
       "      <td>5.1</td>\n",
       "      <td>3.3</td>\n",
       "      <td>1.7</td>\n",
       "      <td>0.5</td>\n",
       "      <td>Iris-setosa</td>\n",
       "    </tr>\n",
       "  </tbody>\n",
       "</table>\n",
       "</div>"
      ],
      "text/plain": [
       "   Sepal_Length  Sepal_Width  Petal_Length  Petal_Width        Class\n",
       "0           5.4          3.9           1.7          0.4  Iris-setosa\n",
       "1           4.8          3.4           1.6          0.2  Iris-setosa\n",
       "2           5.7          3.8           1.7          0.3  Iris-setosa\n",
       "3           5.4          3.4           1.7          0.2  Iris-setosa\n",
       "4           5.1          3.3           1.7          0.5  Iris-setosa"
      ]
     },
     "execution_count": 13,
     "metadata": {},
     "output_type": "execute_result"
    }
   ],
   "source": [
    "session.map(x for x in data if x.Petal_Length > 1.5).head()"
   ]
  },
  {
   "cell_type": "markdown",
   "metadata": {},
   "source": [
    "## Sort Data"
   ]
  },
  {
   "cell_type": "markdown",
   "metadata": {},
   "source": [
    "If you want an ascending order, pass a string with the column name to the function."
   ]
  },
  {
   "cell_type": "code",
   "execution_count": 14,
   "metadata": {},
   "outputs": [
    {
     "data": {
      "text/html": [
       "<table>\n",
       "<thead>\n",
       "<tr><th>Column      </th><th>NumPy Type  </th><th>SQL Type  </th></tr>\n",
       "</thead>\n",
       "<tbody>\n",
       "<tr><td>Sepal_Length</td><td>float64     </td><td>DOUBLE    </td></tr>\n",
       "<tr><td>Sepal_Width </td><td>float64     </td><td>DOUBLE    </td></tr>\n",
       "<tr><td>Petal_Length</td><td>float64     </td><td>DOUBLE    </td></tr>\n",
       "<tr><td>Petal_Width </td><td>float64     </td><td>DOUBLE    </td></tr>\n",
       "<tr><td>Class       </td><td>object      </td><td>VARCHAR   </td></tr>\n",
       "</tbody>\n",
       "</table>"
      ],
      "text/latex": [
       "\\begin{tabular}{lll}\n",
       "\\hline\n",
       " Column       & NumPy Type   & SQL Type   \\\\\n",
       "\\hline\n",
       " Sepal\\_Length & float64      & DOUBLE     \\\\\n",
       " Sepal\\_Width  & float64      & DOUBLE     \\\\\n",
       " Petal\\_Length & float64      & DOUBLE     \\\\\n",
       " Petal\\_Width  & float64      & DOUBLE     \\\\\n",
       " Class        & object       & VARCHAR    \\\\\n",
       "\\hline\n",
       "\\end{tabular}"
      ],
      "text/markdown": [
       "| Column       | NumPy Type   | SQL Type   |\n",
       "|--------------|--------------|------------|\n",
       "| Sepal_Length | float64      | DOUBLE     |\n",
       "| Sepal_Width  | float64      | DOUBLE     |\n",
       "| Petal_Length | float64      | DOUBLE     |\n",
       "| Petal_Width  | float64      | DOUBLE     |\n",
       "| Class        | object       | VARCHAR    |"
      ],
      "text/plain": [
       "Column        NumPy Type    SQL Type\n",
       "Sepal_Length  float64       DOUBLE\n",
       "Sepal_Width   float64       DOUBLE\n",
       "Petal_Length  float64       DOUBLE\n",
       "Petal_Width   float64       DOUBLE\n",
       "Class         object        VARCHAR"
      ]
     },
     "execution_count": 14,
     "metadata": {},
     "output_type": "execute_result"
    }
   ],
   "source": [
    "data.sort_by('Sepal_Length')"
   ]
  },
  {
   "cell_type": "markdown",
   "metadata": {},
   "source": [
    "If you want a descending order, pass a string with the column name to the function."
   ]
  },
  {
   "cell_type": "code",
   "execution_count": 15,
   "metadata": {},
   "outputs": [
    {
     "data": {
      "text/html": [
       "<table>\n",
       "<thead>\n",
       "<tr><th>Column      </th><th>NumPy Type  </th><th>SQL Type  </th></tr>\n",
       "</thead>\n",
       "<tbody>\n",
       "<tr><td>Sepal_Length</td><td>float64     </td><td>DOUBLE    </td></tr>\n",
       "<tr><td>Sepal_Width </td><td>float64     </td><td>DOUBLE    </td></tr>\n",
       "<tr><td>Petal_Length</td><td>float64     </td><td>DOUBLE    </td></tr>\n",
       "<tr><td>Petal_Width </td><td>float64     </td><td>DOUBLE    </td></tr>\n",
       "<tr><td>Class       </td><td>object      </td><td>VARCHAR   </td></tr>\n",
       "</tbody>\n",
       "</table>"
      ],
      "text/latex": [
       "\\begin{tabular}{lll}\n",
       "\\hline\n",
       " Column       & NumPy Type   & SQL Type   \\\\\n",
       "\\hline\n",
       " Sepal\\_Length & float64      & DOUBLE     \\\\\n",
       " Sepal\\_Width  & float64      & DOUBLE     \\\\\n",
       " Petal\\_Length & float64      & DOUBLE     \\\\\n",
       " Petal\\_Width  & float64      & DOUBLE     \\\\\n",
       " Class        & object       & VARCHAR    \\\\\n",
       "\\hline\n",
       "\\end{tabular}"
      ],
      "text/markdown": [
       "| Column       | NumPy Type   | SQL Type   |\n",
       "|--------------|--------------|------------|\n",
       "| Sepal_Length | float64      | DOUBLE     |\n",
       "| Sepal_Width  | float64      | DOUBLE     |\n",
       "| Petal_Length | float64      | DOUBLE     |\n",
       "| Petal_Width  | float64      | DOUBLE     |\n",
       "| Class        | object       | VARCHAR    |"
      ],
      "text/plain": [
       "Column        NumPy Type    SQL Type\n",
       "Sepal_Length  float64       DOUBLE\n",
       "Sepal_Width   float64       DOUBLE\n",
       "Petal_Length  float64       DOUBLE\n",
       "Petal_Width   float64       DOUBLE\n",
       "Class         object        VARCHAR"
      ]
     },
     "execution_count": 15,
     "metadata": {},
     "output_type": "execute_result"
    }
   ],
   "source": [
    "data.sort_by('Sepal_Length',False)"
   ]
  },
  {
   "cell_type": "markdown",
   "metadata": {},
   "source": [
    "If you want to combine, or sort by multiple columns, just pass lists with the values to the function."
   ]
  },
  {
   "cell_type": "code",
   "execution_count": 16,
   "metadata": {},
   "outputs": [
    {
     "data": {
      "text/html": [
       "<table>\n",
       "<thead>\n",
       "<tr><th>Column      </th><th>NumPy Type  </th><th>SQL Type  </th></tr>\n",
       "</thead>\n",
       "<tbody>\n",
       "<tr><td>Sepal_Length</td><td>float64     </td><td>DOUBLE    </td></tr>\n",
       "<tr><td>Sepal_Width </td><td>float64     </td><td>DOUBLE    </td></tr>\n",
       "<tr><td>Petal_Length</td><td>float64     </td><td>DOUBLE    </td></tr>\n",
       "<tr><td>Petal_Width </td><td>float64     </td><td>DOUBLE    </td></tr>\n",
       "<tr><td>Class       </td><td>object      </td><td>VARCHAR   </td></tr>\n",
       "</tbody>\n",
       "</table>"
      ],
      "text/latex": [
       "\\begin{tabular}{lll}\n",
       "\\hline\n",
       " Column       & NumPy Type   & SQL Type   \\\\\n",
       "\\hline\n",
       " Sepal\\_Length & float64      & DOUBLE     \\\\\n",
       " Sepal\\_Width  & float64      & DOUBLE     \\\\\n",
       " Petal\\_Length & float64      & DOUBLE     \\\\\n",
       " Petal\\_Width  & float64      & DOUBLE     \\\\\n",
       " Class        & object       & VARCHAR    \\\\\n",
       "\\hline\n",
       "\\end{tabular}"
      ],
      "text/markdown": [
       "| Column       | NumPy Type   | SQL Type   |\n",
       "|--------------|--------------|------------|\n",
       "| Sepal_Length | float64      | DOUBLE     |\n",
       "| Sepal_Width  | float64      | DOUBLE     |\n",
       "| Petal_Length | float64      | DOUBLE     |\n",
       "| Petal_Width  | float64      | DOUBLE     |\n",
       "| Class        | object       | VARCHAR    |"
      ],
      "text/plain": [
       "Column        NumPy Type    SQL Type\n",
       "Sepal_Length  float64       DOUBLE\n",
       "Sepal_Width   float64       DOUBLE\n",
       "Petal_Length  float64       DOUBLE\n",
       "Petal_Width   float64       DOUBLE\n",
       "Class         object        VARCHAR"
      ]
     },
     "execution_count": 16,
     "metadata": {},
     "output_type": "execute_result"
    }
   ],
   "source": [
    "data.sort_by(['Sepal_Length','Petal_Length'],[False,True])"
   ]
  },
  {
   "cell_type": "markdown",
   "metadata": {},
   "source": [
    "# Aggregate Data"
   ]
  },
  {
   "cell_type": "code",
   "execution_count": 17,
   "metadata": {},
   "outputs": [],
   "source": [
    "from shapelets.functions import avg"
   ]
  },
  {
   "cell_type": "code",
   "execution_count": 18,
   "metadata": {},
   "outputs": [
    {
     "data": {
      "text/html": [
       "<table>\n",
       "<thead>\n",
       "<tr><th>Column               </th><th>NumPy Type  </th><th>SQL Type  </th></tr>\n",
       "</thead>\n",
       "<tbody>\n",
       "<tr><td>class                </td><td>object      </td><td>VARCHAR   </td></tr>\n",
       "<tr><td>avg_x__sepal_length__</td><td>float64     </td><td>DOUBLE    </td></tr>\n",
       "</tbody>\n",
       "</table>"
      ],
      "text/latex": [
       "\\begin{tabular}{lll}\n",
       "\\hline\n",
       " Column                & NumPy Type   & SQL Type   \\\\\n",
       "\\hline\n",
       " class                 & object       & VARCHAR    \\\\\n",
       " avg\\_x\\_\\_sepal\\_length\\_\\_ & float64      & DOUBLE     \\\\\n",
       "\\hline\n",
       "\\end{tabular}"
      ],
      "text/markdown": [
       "| Column                | NumPy Type   | SQL Type   |\n",
       "|-----------------------|--------------|------------|\n",
       "| class                 | object       | VARCHAR    |\n",
       "| avg_x__sepal_length__ | float64      | DOUBLE     |"
      ],
      "text/plain": [
       "Column                 NumPy Type    SQL Type\n",
       "class                  object        VARCHAR\n",
       "avg_x__sepal_length__  float64       DOUBLE"
      ]
     },
     "execution_count": 18,
     "metadata": {},
     "output_type": "execute_result"
    }
   ],
   "source": [
    "session.map((x.Class,avg(x.Sepal_Length)) for x in data)"
   ]
  },
  {
   "cell_type": "code",
   "execution_count": 19,
   "metadata": {},
   "outputs": [
    {
     "data": {
      "text/html": [
       "<div>\n",
       "<style scoped>\n",
       "    .dataframe tbody tr th:only-of-type {\n",
       "        vertical-align: middle;\n",
       "    }\n",
       "\n",
       "    .dataframe tbody tr th {\n",
       "        vertical-align: top;\n",
       "    }\n",
       "\n",
       "    .dataframe thead th {\n",
       "        text-align: right;\n",
       "    }\n",
       "</style>\n",
       "<table border=\"1\" class=\"dataframe\">\n",
       "  <thead>\n",
       "    <tr style=\"text-align: right;\">\n",
       "      <th></th>\n",
       "      <th>Class</th>\n",
       "      <th>avg(x.\"Sepal_Length\")</th>\n",
       "    </tr>\n",
       "  </thead>\n",
       "  <tbody>\n",
       "    <tr>\n",
       "      <th>0</th>\n",
       "      <td>Iris-setosa</td>\n",
       "      <td>5.006</td>\n",
       "    </tr>\n",
       "    <tr>\n",
       "      <th>1</th>\n",
       "      <td>Iris-versicolor</td>\n",
       "      <td>5.936</td>\n",
       "    </tr>\n",
       "    <tr>\n",
       "      <th>2</th>\n",
       "      <td>Iris-virginica</td>\n",
       "      <td>6.588</td>\n",
       "    </tr>\n",
       "  </tbody>\n",
       "</table>\n",
       "</div>"
      ],
      "text/plain": [
       "             Class  avg(x.\"Sepal_Length\")\n",
       "0      Iris-setosa                  5.006\n",
       "1  Iris-versicolor                  5.936\n",
       "2   Iris-virginica                  6.588"
      ]
     },
     "execution_count": 16,
     "metadata": {},
     "output_type": "execute_result"
    }
   ],
   "source": [
    "session.map((x.Class,avg(x.Sepal_Length)) for x in data).head()"
   ]
  }
 ],
 "metadata": {
  "kernelspec": {
   "display_name": "Python 3 (ipykernel)",
   "language": "python",
   "name": "python3"
  },
  "language_info": {
   "codemirror_mode": {
    "name": "ipython",
    "version": 3
   },
   "file_extension": ".py",
   "mimetype": "text/x-python",
   "name": "python",
   "nbconvert_exporter": "python",
   "pygments_lexer": "ipython3",
   "version": "3.8.10"
  },
  "toc-autonumbering": false,
  "toc-showcode": false,
  "toc-showmarkdowntxt": false,
  "toc-showtags": false,
  "vscode": {
   "interpreter": {
    "hash": "31f2aee4e71d21fbe5cf8b01ff0e069b9275f58929596ceb00d14d90e3e16cd6"
   }
  }
 },
 "nbformat": 4,
 "nbformat_minor": 4
}
