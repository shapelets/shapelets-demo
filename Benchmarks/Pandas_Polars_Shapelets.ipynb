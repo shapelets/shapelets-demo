{
 "cells": [
  {
   "cell_type": "markdown",
   "id": "bc267d2b",
   "metadata": {},
   "source": [
    "# One Month Scenario\n",
    "## Pandas\n"
   ]
  },
  {
   "cell_type": "code",
   "execution_count": null,
   "id": "e88c667f",
   "metadata": {},
   "outputs": [],
   "source": [
    "import pandas as pd \n",
    "\n",
    "df = pd.read_parquet('../nyc-taxi/2009/01')\n",
    "\n",
    "df['pickup_at'] = pd.to_datetime(df['pickup_at'])\n",
    "df = df.set_index('pickup_at')\n",
    "\n",
    "df.groupby([df.index.date,df.index.hour])['passenger_count'].mean()\n"
   ]
  },
  {
   "cell_type": "markdown",
   "id": "cdb8f03e",
   "metadata": {},
   "source": [
    "## Polars"
   ]
  },
  {
   "cell_type": "code",
   "execution_count": null,
   "id": "60b55f83",
   "metadata": {},
   "outputs": [],
   "source": [
    "import polars as pl\n",
    "data = pl.read_parquet('../nyc-taxi/2009/01/*.parquet')\n",
    "\n",
    "data.groupby(\n",
    "        [\n",
    "            pl.col(\"pickup_at\").dt.strftime(\"%D\").alias(\"pickup_at_date\"),\n",
    "            pl.col(\"pickup_at\").dt.hour().alias(\"pickup_at_hour\"),\n",
    "        ]\n",
    "    ).agg(pl.mean(\"passenger_count\"))\n"
   ]
  },
  {
   "cell_type": "markdown",
   "id": "2f8c0e8a",
   "metadata": {},
   "source": [
    "## Shapelets"
   ]
  },
  {
   "cell_type": "code",
   "execution_count": null,
   "id": "887240f3",
   "metadata": {},
   "outputs": [],
   "source": [
    "import shapelets as sh\n",
    "from shapelets.data.functions import avg, getDate, hour, minute\n",
    "\n",
    "playground = sh.data.sandbox()\n",
    "\n",
    "taxis = playground.from_parquet(\"../nyc-taxi/2009/01/*.parquet\")\n",
    "\n",
    "result = playground.map(\n",
    "    (getDate(row.pickup_at), hour(row.pickup_at), avg(row.passenger_count)) \n",
    "    for row in taxis\n",
    ")\n",
    "\n",
    "result.to_pandas()\n"
   ]
  },
  {
   "cell_type": "markdown",
   "id": "3093b942",
   "metadata": {},
   "source": [
    "# One Year Scenario\n",
    "\n",
    "## Pandas (Large memory consumption)"
   ]
  },
  {
   "cell_type": "code",
   "execution_count": null,
   "id": "ad39479c",
   "metadata": {},
   "outputs": [],
   "source": [
    "import pandas as pd \n",
    "\n",
    "df = pd.read_parquet('../nyc-taxi/2009')\n",
    "\n",
    "df['pickup_at'] = pd.to_datetime(df['pickup_at'])\n",
    "df = df.set_index('pickup_at')\n",
    "\n",
    "df.groupby([df.index.date,df.index.hour])['passenger_count'].mean()\n"
   ]
  },
  {
   "cell_type": "markdown",
   "id": "552c37f7",
   "metadata": {},
   "source": [
    "## Polars (Large memory consumption)"
   ]
  },
  {
   "cell_type": "code",
   "execution_count": null,
   "id": "850b6043",
   "metadata": {},
   "outputs": [],
   "source": [
    "import polars as pl\n",
    "data = pl.read_parquet('../nyc-taxi/2009/**/*.parquet')\n",
    "\n",
    "data.groupby(\n",
    "        [\n",
    "            pl.col(\"pickup_at\").dt.strftime(\"%D\").alias(\"pickup_at_date\"),\n",
    "            pl.col(\"pickup_at\").dt.hour().alias(\"pickup_at_hour\"),\n",
    "        ]\n",
    "    ).agg(pl.mean(\"passenger_count\"))"
   ]
  },
  {
   "cell_type": "markdown",
   "id": "877bb895",
   "metadata": {},
   "source": [
    "## Shapelets"
   ]
  },
  {
   "cell_type": "code",
   "execution_count": null,
   "id": "4c11f564",
   "metadata": {},
   "outputs": [],
   "source": [
    "import shapelets as sh\n",
    "from shapelets.data.functions import sum, getDate, hour, minute, avg\n",
    "\n",
    "playground = sh.data.sandbox()\n",
    "\n",
    "taxis = playground.from_parquet(\"../nyc-taxi/2009/**/*.parquet\")\n",
    "\n",
    "result = playground.map(\n",
    "    (getDate(row.pickup_at), hour(row.pickup_at), avg(row.passenger_count)) \n",
    "    for row in taxis\n",
    ")\n",
    "\n",
    "result.to_pandas()"
   ]
  }
 ],
 "metadata": {
  "kernelspec": {
   "display_name": "Python 3.8.10 ('venv': venv)",
   "language": "python",
   "name": "python3"
  },
  "language_info": {
   "codemirror_mode": {
    "name": "ipython",
    "version": 3
   },
   "file_extension": ".py",
   "mimetype": "text/x-python",
   "name": "python",
   "nbconvert_exporter": "python",
   "pygments_lexer": "ipython3",
   "version": "3.8.10"
  },
  "vscode": {
   "interpreter": {
    "hash": "22dc80bfccd588132a0f6d0744ca60ba2f78632a53b12180303f6216049a9faf"
   }
  }
 },
 "nbformat": 4,
 "nbformat_minor": 5
}
