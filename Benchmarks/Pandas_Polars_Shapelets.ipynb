{
 "cells": [
  {
   "cell_type": "markdown",
   "id": "b7704eed",
   "metadata": {},
   "source": [
    "# Benchmark for big data ingestion and querying\n",
    "\n",
    "## Introduction\n",
    "\n",
    "This notebook provides a quick comparison of the ingestion and querying speed between Shapelets (shapelets-platform) and two well known python libraries for tabular data handling: Pandas and Polars. You will need to have them installed in order to run this benchmark."
   ]
  },
  {
   "cell_type": "code",
   "execution_count": null,
   "id": "382a6e4f",
   "metadata": {},
   "outputs": [],
   "source": [
    "! pip install pandas polars shapelets-platform"
   ]
  },
  {
   "cell_type": "markdown",
   "id": "2108d699",
   "metadata": {},
   "source": [
    "The benchmark is based on the NYC Taxi Dataset, with a size of ~37 Gb. The dataset contains more than 1.5 billion records of taxi trips in the area of New York City during 10 years (2009 to 2019). The dataset consists of .parquet files, one for each month of data.\n",
    "\n",
    "We will be comparing two scenarios: one month of data (~430 Mb) and 1 year of data (~4.6 Gb). The benchmark evaluates two objectives:\n",
    "- Data ingestion \n",
    "- Data querying with aggregation, in order to compute the average number of passengers for each day and month.\n",
    "\n",
    "Please note both the execution times, CPU and memory used by each library, as for instance, Shapelets implementation is the fastest, uses all CPU cores available and does not require loading the data into memory.\n",
    "\n",
    "In order to handle data, Shapelets relies very efficient data structures which rely on a technique named bitmap indexing, implemented in C++. This technique offers particularly good results in huge databases, providing faster retrieval of records and greater efficiency in insert, delete and update operations.\n",
    "\n",
    "When handling time series, temporal indices are discretized and codified as bitmap indices, speeding up operations and providing several advantages, like the ability to store time series sampled at an arbitrarily high frequency.\n",
    "\n",
    "**Note**: if you find a better implementation for Pandas or Polars, feel free to raise an issue in this repo or e-mail us at hello@shapelets.io"
   ]
  },
  {
   "cell_type": "markdown",
   "id": "bc267d2b",
   "metadata": {},
   "source": [
    "## One Month Scenario\n",
    "### Pandas\n"
   ]
  },
  {
   "cell_type": "code",
   "execution_count": null,
   "id": "e88c667f",
   "metadata": {},
   "outputs": [],
   "source": [
    "import pandas as pd \n",
    "\n",
    "df = pd.read_parquet('../nyc-taxi/2009/01')\n",
    "\n",
    "df['pickup_at'] = pd.to_datetime(df['pickup_at'])\n",
    "df = df.set_index('pickup_at')\n",
    "\n",
    "df.groupby([df.index.date,df.index.hour])['passenger_count'].mean()"
   ]
  },
  {
   "cell_type": "markdown",
   "id": "cdb8f03e",
   "metadata": {},
   "source": [
    "### Polars"
   ]
  },
  {
   "cell_type": "code",
   "execution_count": null,
   "id": "60b55f83",
   "metadata": {},
   "outputs": [],
   "source": [
    "import polars as pl\n",
    "data = pl.scan_parquet('~/datasets/nyc-taxi/2009/01/*.parquet')\n",
    "\n",
    "data.groupby(\n",
    "        [\n",
    "            pl.col(\"pickup_at\").cast(pl.Date).alias(\"pickup_at_date\"),\n",
    "            pl.col(\"pickup_at\").dt.hour().alias(\"pickup_at_hour\"),\n",
    "        ]\n",
    "    ).agg(pl.mean(\"passenger_count\")).collect()"
   ]
  },
  {
   "cell_type": "markdown",
   "id": "2f8c0e8a",
   "metadata": {},
   "source": [
    "### Shapelets"
   ]
  },
  {
   "cell_type": "code",
   "execution_count": null,
   "id": "887240f3",
   "metadata": {},
   "outputs": [],
   "source": [
    "import shapelets as sh\n",
    "from shapelets.functions import avg, getDate, hour, minute\n",
    "\n",
    "playground = sh.sandbox()\n",
    "\n",
    "taxis = playground.from_parquet(\"../nyc-taxi/2009/01/*.parquet\")\n",
    "\n",
    "result = playground.map(\n",
    "    (getDate(row.pickup_at), hour(row.pickup_at), avg(row.passenger_count)) \n",
    "    for row in taxis\n",
    ")\n",
    "\n",
    "result.to_pandas()"
   ]
  },
  {
   "cell_type": "markdown",
   "id": "3093b942",
   "metadata": {},
   "source": [
    "## One Year Scenario\n",
    "\n",
    "### Pandas (Large memory consumption)"
   ]
  },
  {
   "cell_type": "code",
   "execution_count": null,
   "id": "ad39479c",
   "metadata": {},
   "outputs": [],
   "source": [
    "import pandas as pd \n",
    "\n",
    "df = pd.read_parquet('../nyc-taxi/2009')\n",
    "\n",
    "df['pickup_at'] = pd.to_datetime(df['pickup_at'])\n",
    "df = df.set_index('pickup_at')\n",
    "\n",
    "df.groupby([df.index.date,df.index.hour])['passenger_count'].mean()"
   ]
  },
  {
   "cell_type": "markdown",
   "id": "552c37f7",
   "metadata": {},
   "source": [
    "### Polars (Large memory consumption)"
   ]
  },
  {
   "cell_type": "code",
   "execution_count": null,
   "id": "850b6043",
   "metadata": {},
   "outputs": [],
   "source": [
    "import polars as pl\n",
    "data = pl.scan_parquet('../nyc-taxi/2009/**/*.parquet')\n",
    "\n",
    "data.groupby(\n",
    "        [\n",
    "            pl.col(\"pickup_at\").cast(pl.Date).alias(\"pickup_at_date\"),\n",
    "            pl.col(\"pickup_at\").dt.hour().alias(\"pickup_at_hour\"),\n",
    "        ]\n",
    "    ).agg(pl.mean(\"passenger_count\")).collect()"
   ]
  },
  {
   "cell_type": "markdown",
   "id": "877bb895",
   "metadata": {},
   "source": [
    "### Shapelets"
   ]
  },
  {
   "cell_type": "code",
   "execution_count": null,
   "id": "4c11f564",
   "metadata": {},
   "outputs": [],
   "source": [
    "import shapelets as sh\n",
    "from shapelets.functions import sum, getDate, hour, minute, avg\n",
    "\n",
    "playground = sh.sandbox()\n",
    "\n",
    "taxis = playground.from_parquet(\"../nyc-taxi/2009/**/*.parquet\")\n",
    "\n",
    "result = playground.map(\n",
    "    (getDate(row.pickup_at), hour(row.pickup_at), avg(row.passenger_count)) \n",
    "    for row in taxis\n",
    ")\n",
    "\n",
    "result.to_pandas()"
   ]
  }
 ],
 "metadata": {
  "kernelspec": {
   "display_name": "Python 3.10.8 ('venv': venv)",
   "language": "python",
   "name": "python3"
  },
  "language_info": {
   "codemirror_mode": {
    "name": "ipython",
    "version": 3
   },
   "file_extension": ".py",
   "mimetype": "text/x-python",
   "name": "python",
   "nbconvert_exporter": "python",
   "pygments_lexer": "ipython3",
   "version": "3.10.8"
  },
  "vscode": {
   "interpreter": {
    "hash": "dd91c1e9d90d869cb5f0a1c3df511ab2b748983196c071e5dcd476d229b12eea"
   }
  }
 },
 "nbformat": 4,
 "nbformat_minor": 5
}
